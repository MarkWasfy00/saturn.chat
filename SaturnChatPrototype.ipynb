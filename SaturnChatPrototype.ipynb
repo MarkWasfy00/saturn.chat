{
  "cells": [
    {
      "cell_type": "code",
      "execution_count": null,
      "metadata": {
        "id": "1TrS-6Y16Ozy"
      },
      "outputs": [],
      "source": [
        "# !pip install pyautogen\n",
        "# !pip install 'pyautogen[retrievechat]'\n"
      ]
    },
    {
      "cell_type": "code",
      "execution_count": 1,
      "metadata": {
        "id": "4x71qhmB6FrP"
      },
      "outputs": [],
      "source": [
        "# universe.py\n",
        "from autogen import AssistantAgent, UserProxyAgent, GroupChat, GroupChatManager\n",
        "import autogen\n",
        "import random\n",
        "\n",
        "import autogen\n",
        "#from autogen.agentchat.contrib.retrieve_assistant_agent import RetrieveAssistantAgent\n",
        "#from autogen.agentchat.contrib.retrieve_user_proxy_agent import RetrieveUserProxyAgent\n",
        "from autogen import ConversableAgent\n",
        "from autogen.coding import LocalCommandLineCodeExecutor\n",
        "\n",
        "\n",
        "import re\n",
        "import sys\n",
        "import contextlib\n",
        "from io import StringIO"
      ]
    },
    {
      "cell_type": "code",
      "execution_count": 2,
      "metadata": {
        "id": "DGunaq0C6KKp"
      },
      "outputs": [],
      "source": [
        "\n",
        "# Configuration for GPT-4\n",
        "config_list = autogen.config_list_from_json(\"llm_config.json\")\n",
        "\n",
        "gpt4_config = {\n",
        "    \"cache_seed\": random.randint(0, 9999999999999999),\n",
        "    \"temperature\": 0,\n",
        "    \"config_list\": config_list,\n",
        "    \"timeout\": 120,\n",
        "}\n"
      ]
    },
    {
      "cell_type": "code",
      "execution_count": null,
      "metadata": {
        "id": "1deXNG7VWkh7"
      },
      "outputs": [],
      "source": []
    },
    {
      "cell_type": "code",
      "execution_count": 5,
      "metadata": {
        "colab": {
          "base_uri": "https://localhost:8080/"
        },
        "id": "LLFa5UclSWJ2",
        "outputId": "fd769d00-71d5-4316-9544-b26482b25913"
      },
      "outputs": [
        {
          "name": "stdout",
          "output_type": "stream",
          "text": [
            "Welcome to the maze! Try to find your way out.\n",
            "You are now at location (4, 2). Paths available: North, West.\n"
          ]
        },
        {
          "ename": "AttributeError",
          "evalue": "'RPG' object has no attribute 'SimplifiedUniverse'",
          "output_type": "error",
          "traceback": [
            "\u001b[1;31m---------------------------------------------------------------------------\u001b[0m",
            "\u001b[1;31mAttributeError\u001b[0m                            Traceback (most recent call last)",
            "Cell \u001b[1;32mIn[5], line 5\u001b[0m\n\u001b[0;32m      3\u001b[0m rpg \u001b[38;5;241m=\u001b[39m RPG()\n\u001b[0;32m      4\u001b[0m \u001b[38;5;66;03m# Initialize the universe\u001b[39;00m\n\u001b[1;32m----> 5\u001b[0m saturn_universe \u001b[38;5;241m=\u001b[39m \u001b[43mrpg\u001b[49m\u001b[38;5;241;43m.\u001b[39;49m\u001b[43mSimplifiedUniverse\u001b[49m()\n\u001b[0;32m      6\u001b[0m saturn_universe\u001b[38;5;241m.\u001b[39msetup_group_chat(gpt4_config)\n\u001b[0;32m      8\u001b[0m \u001b[38;5;66;03m# Example message to start the interaction\u001b[39;00m\n",
            "\u001b[1;31mAttributeError\u001b[0m: 'RPG' object has no attribute 'SimplifiedUniverse'"
          ]
        }
      ],
      "source": [
        "import universe\n",
        "\n",
        "# Initialize the universe\n",
        "saturn_universe = universe.SimplifiedUniverse()\n",
        "saturn_universe.setup_group_chat(gpt4_config)\n",
        "\n",
        "# Example message to start the interaction\n",
        "saturn_universe.initiate_chat(\"where am i?, return my coordinates in the maze\")\n",
        "\n",
        "# \"\"\"Saturn.chat RPG Functionality Overview\n",
        "# - Random Events: Incorporate random event generation within the RPG to maintain user interest and unpredictability in storytelling.\n",
        "# - Hard Maze: Implement a challenging maze feature for users to explore, while preventing AI-generated content from causing hallucinations, ensuring coherent and immersive storytelling.\n",
        "\n",
        "# Here is your task: Focus on the uniqueness of the NFTs and technology advancement. Target audience is the AI anime NFT community. Please explore the applications of GPT-4 in the Saturn Series universe without blockchain implementation.\n",
        "# Save your progress constantly to the work dir. Your first task it looking at the contents of your workdir to see your past progress.\n",
        "# You can interact with the file system if you provide python codebloocks\n",
        "\n",
        "# your first step is looking ar universe/rpg.py\n",
        "# up next, i´ve moved the maze.py you made into the universe folder where rpg.py is. now we need to implement the maze into rpg.py, so that the user starts at a random location. each location should have some small description about the saturn series universe, this initial maze is the saturn protocol lab, imagine this like a pokemon RPG where each tile the user can stand on, and some of the tiles are interactive. they need some metadata too like region, building, items in proximity, and a way to interact with the items throguh the conversation\n",
        "\n",
        "# \"\"\"\n",
        "\n",
        "\n"
      ]
    },
    {
      "cell_type": "code",
      "execution_count": null,
      "metadata": {
        "id": "N-UOL6VXJeMJ"
      },
      "outputs": [],
      "source": []
    }
  ],
  "metadata": {
    "colab": {
      "provenance": []
    },
    "kernelspec": {
      "display_name": "Python 3",
      "name": "python3"
    },
    "language_info": {
      "codemirror_mode": {
        "name": "ipython",
        "version": 3
      },
      "file_extension": ".py",
      "mimetype": "text/x-python",
      "name": "python",
      "nbconvert_exporter": "python",
      "pygments_lexer": "ipython3",
      "version": "3.12.0"
    }
  },
  "nbformat": 4,
  "nbformat_minor": 0
}
